{
 "metadata": {
  "language_info": {
   "codemirror_mode": {
    "name": "ipython",
    "version": 3
   },
   "file_extension": ".py",
   "mimetype": "text/x-python",
   "name": "python",
   "nbconvert_exporter": "python",
   "pygments_lexer": "ipython3",
   "version": 3
  },
  "orig_nbformat": 2,
  "kernelspec": {
   "name": "python_defaultSpec_1596646160907",
   "display_name": "Python 3.7.6 64-bit ('rasainstall': conda)"
  }
 },
 "nbformat": 4,
 "nbformat_minor": 2,
 "cells": [
  {
   "cell_type": "code",
   "execution_count": 3,
   "metadata": {},
   "outputs": [],
   "source": [
    "# import everything\n",
    "import pandas as pd\n",
    "import numpy as np\n",
    "from joblib import load\n",
    "import sklearn.neighbors"
   ]
  },
  {
   "cell_type": "code",
   "execution_count": 4,
   "metadata": {},
   "outputs": [],
   "source": [
    "# read in sample data\n",
    "# sample_data = pd.read_csv(\"sample_case_data.csv\")"
   ]
  },
  {
   "cell_type": "code",
   "execution_count": 5,
   "metadata": {},
   "outputs": [],
   "source": [
    "def encode_answers(input_data):\n",
    "    '''Reads in the sample encoded data w/ correct columns and \n",
    "    converts input data to the same format'''\n",
    "    # read in empty dataframe with correct columns\n",
    "    encoding_sample = pd.read_csv(\"empty_data_stucture.csv\").iloc[:, 3:]\n",
    "\n",
    "    # encode it\n",
    "    encoded_data = encoding_sample.align(pd.get_dummies(input_data),\n",
    "    join = \"left\", axis = 1)\n",
    "\n",
    "    # convert na's to 0 (since we're one hot encoding)\n",
    "    encoded_data = encoded_data[1].fillna(0)\n",
    "    \n",
    "    return(encoded_data)\n",
    "\n",
    "def get_top_3_knn(data):\n",
    "    '''Read in the knn model and apply it to correctly formatted sample data'''\n",
    "    # read in model\n",
    "    state_knn = load(\"state_level_knn.joblib\")\n",
    "\n",
    "    # encode input data\n",
    "    encoded_data = encode_answers(data)\n",
    "\n",
    "    pred = state_knn.predict_proba(encoded_data)\n",
    "    top_3 = np.argsort(pred, axis=1)[ : ,-3 : ]\n",
    "    results = [state_knn.classes_[i] for i in top_3]\n",
    "\n",
    "    return(results[0].tolist())"
   ]
  },
  {
   "cell_type": "code",
   "execution_count": 6,
   "metadata": {},
   "outputs": [],
   "source": [
    "from typing import Dict, Text, Any, List, Union, Optional\n",
    "\n",
    "class ClassifierPipeline_knn():\n",
    "    \"\"\"Load in calssifier & encoders\"\"\"\n",
    "\n",
    "    def name(self) -> Text:\n",
    "        \"\"\"Unique identifier of the classfier \"\"\"\n",
    "\n",
    "        return \"5knn_state\"\n",
    "\n",
    "    def encode_answers(self, input_data):\n",
    "        '''Reads in the sample encoded data w/ correct columns and \n",
    "        converts input data to the same format'''\n",
    "        # read in empty dataframe with correct columns\n",
    "        encoding_sample = pd.read_csv(\"empty_data_stucture.csv\").iloc[:, 3:]\n",
    "\n",
    "        # encode it\n",
    "        encoded_data = encoding_sample.align(pd.get_dummies(input_data),\n",
    "        join = \"left\", axis = 1)\n",
    "\n",
    "        # convert na's to 0 (since we're one hot encoding)\n",
    "        encoded_data = encoded_data[1].fillna(0)\n",
    "        \n",
    "        return(encoded_data)\n",
    "\n",
    "    def get_top_3_knn(self, data):\n",
    "        '''Read in the knn model and apply it to correctly formatted sample data'''\n",
    "        # read in model\n",
    "        state_knn = load(\"state_level_knn.joblib\")\n",
    "\n",
    "        # encode input data\n",
    "        encoded_data = self.encode_answers(data)\n",
    "\n",
    "        pred = state_knn.predict_proba(encoded_data)\n",
    "        top_3 = np.argsort(pred, axis=1)[ : ,-3 : ]\n",
    "        results = [state_knn.classes_[i] for i in top_3]\n",
    "\n",
    "        return(results[0].tolist())"
   ]
  },
  {
   "cell_type": "code",
   "execution_count": 7,
   "metadata": {},
   "outputs": [
    {
     "output_type": "execute_result",
     "data": {
      "text/plain": "['MA', 'WA', 'AL']"
     },
     "metadata": {},
     "execution_count": 7
    }
   ],
   "source": [
    "encoding_sample = pd.read_csv(\"empty_data_stucture.csv\")\n",
    "\n",
    "get_top_3_knn(encoding_sample)"
   ]
  },
  {
   "cell_type": "code",
   "execution_count": 11,
   "metadata": {},
   "outputs": [
    {
     "output_type": "execute_result",
     "data": {
      "text/plain": "['PA', 'ID', 'UT']"
     },
     "metadata": {},
     "execution_count": 11
    }
   ],
   "source": [
    "ClassifierPipeline_knn().get_top_3_knn(sample_data)"
   ]
  },
  {
   "cell_type": "code",
   "execution_count": 10,
   "metadata": {
    "tags": []
   },
   "outputs": [
    {
     "output_type": "stream",
     "name": "stdout",
     "text": "q14_boy  q14_either  q14_law  q14_other  q28_different  q28_other  \\\n0      0.0         0.0      0.0          1            0.0        0.0   \n\n   q28_same  q50_other  q50_y'all  q50_yins  ...  q110_other  \\\n0         1        0.0        0.0       0.0  ...         0.0   \n\n   q110_trick_night  q118_I_have_never_heard_of_such_a_thing  q118_beer_barn  \\\n0               0.0                                      0.0             0.0   \n\n   q118_beverage_barn  q118_bootlegger  q118_brew_thru  q118_other  \\\n0                 0.0              0.0             0.0         0.0   \n\n   q118_party_barn  \\\n0              0.0   \n\n   q118_we_have_these_in_my_area,_but_we_have_no_special_term_for_them  \n0                                                0.0                    \n\n[1 rows x 172 columns]\n"
    }
   ],
   "source": [
    "input_data = pd.read_csv(\"empty_data_stucture.csv\")\n",
    "\n",
    "encoding_sample = pd.read_csv(\"empty_data_stucture.csv\").iloc[:, 3:]\n",
    "\n",
    "# encode it\n",
    "encoded_data = encoding_sample.align(pd.get_dummies(input_data),\n",
    "join = \"left\", axis = 1)\n",
    "\n",
    "encoded_data = encoded_data[1].fillna(0)\n",
    "\n",
    "print(encoded_data)\n",
    "# convert na's to 0 (since we're one hot encoding)\n",
    "# encoded_data = encoded_data[1].fillna(0)"
   ]
  }
 ]
}