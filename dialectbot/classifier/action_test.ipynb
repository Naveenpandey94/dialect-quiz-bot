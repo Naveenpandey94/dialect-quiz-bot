{
 "cells": [
  {
   "cell_type": "code",
   "execution_count": 1,
   "metadata": {},
   "outputs": [],
   "source": [
    "# load in encoder & model\n",
    "from joblib import load\n",
    "import xgboost as xgb\n",
    "import numpy as np\n",
    "import pandas as pd\n",
    "from sklearn.preprocessing import LabelEncoder\n",
    "\n",
    "def load_data():\n",
    "    ''' Load in the pretrained model & label encoders.\n",
    "    '''\n",
    "    d = load(\"label_encoder.joblib.dat\")\n",
    "    d_classes = load(\"encoder_classes.joblib.dat\")\n",
    "    dialect_classifier = load(\"dialect_classifier.joblib.dat\")\n",
    "    test_case = load(\"test_case.joblib.dat\")\n",
    "\n",
    "    # remove target class from test data\n",
    "    del test_case[\"class_target\"]\n",
    "\n",
    "    # update the classes for each of our label encoders\n",
    "    for key,item in d.items():\n",
    "        d[key]._classes = d_classes[key]\n",
    "\n",
    "    return d, d_classes, dialect_classifier, test_case\n",
    "\n",
    "def encode_data(input_data):\n",
    "    ''' Encode our input data with pre-trained label encoders.\n",
    "    '''\n",
    "    # encode our test data\n",
    "    test_case_encoded = input_data\n",
    "\n",
    "    for i, row in test_case.items():\n",
    "        test_case_encoded[i] = d[i].transform([test_case[i]])\n",
    "\n",
    "    test_case_encoded = test_case_encoded.apply(lambda x:x[0])\n",
    "\n",
    "    return test_case_encoded\n",
    "\n",
    "def predict_cities(test_case_encoded):\n",
    "    ''' Take in encoded data & return top three predicted cities.\n",
    "    '''\n",
    "    # convert input data to DMatrix format\n",
    "    test_case_encoded_d = xgb.DMatrix(test_case_encoded)\n",
    "    test_case_encoded_d.feature_names =  test_case_encoded.index.tolist()\n",
    "\n",
    "    # classify using our pre-trained model\n",
    "    predictions = dialect_classifier.predict(test_case_encoded_d)\n",
    "\n",
    "    # return the top 3 classes\n",
    "    top_3 = np.argsort(predictions, axis=1)[ : ,-3 : ]\n",
    "\n",
    "    cities = d[\"class_target\"].inverse_transform(top_3[0].tolist())\n",
    "\n",
    "    return cities"
   ]
  },
  {
   "cell_type": "code",
   "execution_count": 2,
   "metadata": {},
   "outputs": [
    {
     "output_type": "execute_result",
     "data": {
      "text/plain": "array(['new york NY', 'houston TX', 'miami FL'], dtype=object)"
     },
     "metadata": {},
     "execution_count": 2
    }
   ],
   "source": [
    "d, d_classes, dialect_classifier, test_case = load_data()\n",
    "test_case_encoded = encode_data(test_case)\n",
    "predict_cities(test_case_encoded)\n",
    "# expected output = 'new york NY', 'houston TX', 'miami FL'"
   ]
  },
  {
   "cell_type": "code",
   "execution_count": 5,
   "metadata": {},
   "outputs": [
    {
     "output_type": "execute_result",
     "data": {
      "text/plain": "array(['new york NY', 'houston TX', 'miami FL'], dtype=object)"
     },
     "metadata": {},
     "execution_count": 5
    }
   ],
   "source": [
    "predict_cities(test_case_encoded)[0:3]"
   ]
  },
  {
   "cell_type": "code",
   "execution_count": null,
   "metadata": {},
   "outputs": [],
   "source": [
    "\n",
    "# tracker: Tracker,\n",
    "\n",
    "tracker.get_slot('cuisine')"
   ]
  },
  {
   "cell_type": "code",
   "execution_count": 7,
   "metadata": {},
   "outputs": [],
   "source": [
    "slot_question_key = {'Q050': 'second_person_plural',\n",
    " 'Q028': 'cot_caught',\n",
    " 'Q080': 'rain_sun',\n",
    " 'Q066': 'crawfish',\n",
    " 'Q110': 'halloween',\n",
    " 'Q064': 'sandwich',\n",
    " 'Q090': 'side_road',\n",
    " 'Q105': 'beverage',\n",
    " 'Q073': 'shoes',\n",
    " 'Q079': 'highway',\n",
    " 'Q058': 'yard_sale',\n",
    " 'Q107': 'rubbernecking',\n",
    " 'Q094': 'frosting',\n",
    " 'Q014': 'lawyer',\n",
    " 'Q076': 'kitty_corner',\n",
    " 'Q065': 'firefly',\n",
    " 'Q060': 'verge',\n",
    " 'Q118': 'brew_thru',\n",
    " 'Q103': 'water_fountain'}"
   ]
  },
  {
   "cell_type": "code",
   "execution_count": 6,
   "metadata": {},
   "outputs": [
    {
     "output_type": "execute_result",
     "data": {
      "text/plain": "Q050                                 other\nQ028                                  same\nQ080              the wolf is giving birth\nQ066                                  craw\nQ110                                 other\nQ064                               grinder\nQ090                         service roadm\nQ105                                   pop\nQ073                                 shoes\nQ079                               freeway\nQ058                           garage sale\nQ107                         gapers' block\nQ094                               neither\nQ014                                   law\nQ076                            kitacorner\nQ065                         peenie wallie\nQ060                                 other\nQ118    I have never heard of such a thing\nQ103                                 other\nName: 1858, dtype: object"
     },
     "metadata": {},
     "execution_count": 6
    }
   ],
   "source": [
    "d, d_classes, dialect_classifier, test_case = load_data()\n",
    "test_case"
   ]
  },
  {
   "cell_type": "code",
   "execution_count": 40,
   "metadata": {},
   "outputs": [
    {
     "output_type": "stream",
     "name": "stdout",
     "text": "second_person_plural\ncot_caught\nrain_sun\ncrawfish\nhalloween\nsandwich\nside_road\nbeverage\nshoes\nhighway\nyard_sale\nrubbernecking\nfrosting\nlawyer\nkitty_corner\nfirefly\nverge\nbrew_thru\nwater_fountain\n"
    }
   ],
   "source": [
    "formatted_responses = pd.Series(index = slot_question_key.keys())\n",
    "\n",
    "for index, value in formatted_responses.items():\n",
    "    formatted_responses[index] = slot_question_key[index]"
   ]
  },
  {
   "cell_type": "code",
   "execution_count": 41,
   "metadata": {},
   "outputs": [
    {
     "output_type": "execute_result",
     "data": {
      "text/plain": "Q050    second_person_plural\nQ028              cot_caught\nQ080                rain_sun\nQ066                crawfish\nQ110               halloween\nQ064                sandwich\nQ090               side_road\nQ105                beverage\nQ073                   shoes\nQ079                 highway\nQ058               yard_sale\nQ107           rubbernecking\nQ094                frosting\nQ014                  lawyer\nQ076            kitty_corner\nQ065                 firefly\nQ060                   verge\nQ118               brew_thru\nQ103          water_fountain\ndtype: object"
     },
     "metadata": {},
     "execution_count": 41
    }
   ],
   "source": [
    "# this won't work\n",
    "formatted_responses = pd.Series(index = slot_question_key.keys())\n",
    "\n",
    "for index, value in formatted_responses.items():\n",
    "    formatted_responses[index] = tracker.get_slot(slot_question_key[index])"
   ]
  }
 ],
 "metadata": {
  "language_info": {
   "name": "python",
   "codemirror_mode": {
    "name": "ipython",
    "version": 3
   },
   "version": "3.7.6-final"
  },
  "orig_nbformat": 2,
  "file_extension": ".py",
  "mimetype": "text/x-python",
  "name": "python",
  "npconvert_exporter": "python",
  "pygments_lexer": "ipython3",
  "version": 3,
  "kernelspec": {
   "name": "python37264bit47698e2c9ab8417399d6bee912c1be96",
   "display_name": "Python 3.7.2 64-bit"
  }
 },
 "nbformat": 4,
 "nbformat_minor": 2
}